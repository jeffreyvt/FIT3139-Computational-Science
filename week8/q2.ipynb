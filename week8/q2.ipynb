{
 "cells": [
  {
   "cell_type": "code",
   "execution_count": 1,
   "metadata": {
    "collapsed": true
   },
   "outputs": [],
   "source": [
    "\"\"\"\n",
    "Author: JiaHui (Jeffrey) Lu\n",
    "ID: 25944800\n",
    "\"\"\"\n",
    "import numpy as np\n",
    "import matplotlib. pyplot as plt"
   ]
  },
  {
   "cell_type": "code",
   "execution_count": 8,
   "metadata": {
    "collapsed": true
   },
   "outputs": [],
   "source": [
    "n = 100000\n",
    "r = 0.5\n",
    "theta = np.random.uniform(-np.pi/2, np.pi/2, n)\n",
    "u = np.random.uniform(0, 1, n)\n",
    "z = np.greater(r*np.cos(theta)+u, 1)"
   ]
  },
  {
   "cell_type": "code",
   "execution_count": 9,
   "metadata": {},
   "outputs": [
    {
     "data": {
      "text/plain": [
       "3.1422825540472599"
      ]
     },
     "execution_count": 9,
     "metadata": {},
     "output_type": "execute_result"
    }
   ],
   "source": [
    "# estimate the value of Pi\n",
    "2*r/(np.sum(z)/n)"
   ]
  },
  {
   "cell_type": "markdown",
   "metadata": {},
   "source": [
    "## b) Derive the expression of the axiomatic probability if the needle had a length of r > 1\n",
    "\n",
    "We have the original expression $u + r \\cos{\\theta} > 1$ where $u\\in[0,1]$ and $\\theta \\in [-\\pi/2, \\pi/2]$.\n",
    "\n",
    "We wish to find the part of the graph for which the above equation hold true in the given domain and range.\n",
    "\n",
    "First, we transform the equation to a function of $u$:\n",
    "$$u = 1 - r\\cos{\\theta}$$\n",
    "\n",
    "Now, if the value $r>1$, then the graph will intersect with the x-axis and go off domain, hence we need to integrate within a valid domain to avoid getting incorrect values. The intersection can be found by solving $0 = u - r \\cos{\\theta}$, which will yield $\\theta = \\pm\\cos^{-1}(\\frac{1}{r})$\n",
    "\n",
    "Then, we can take the integration to find the area under the graph:\n",
    "$$2\\int_{\\cos^{-1}(\\frac{1}{r})}^{\\frac{\\pi}{2}}1 - r\\cos(\\theta)d\\theta = 2(\\frac{\\pi}{2}-r-\\cos^{-1}(\\frac{1}{r})+r\\sin(\\cos^{-1}(\\frac{1}{r})))$$\n",
    "\n",
    "Hence the probability for which the needle of length r>1 crossing the line would be:\n",
    "$$Pr = 1-\\frac{2(\\frac{\\pi}{2}-r-\\cos^{-1}(\\frac{1}{r})+r\\sin(\\cos^{-1}(\\frac{1}{r})))}{\\pi}$$"
   ]
  },
  {
   "cell_type": "code",
   "execution_count": 13,
   "metadata": {
    "collapsed": false
   },
   "outputs": [
    {
     "name": "stdout",
     "output_type": "stream",
     "text": [
      "Computed probability: 0.837248420558\nSimulated probability 0.83851\n"
     ]
    }
   ],
   "source": [
    "# This print value should coincide with the estimation below\n",
    "r = 2\n",
    "print(\"Computed probability:\", 1-(2*(np.pi/2-r-np.arccos(1/r)+r*np.sin(np.arccos(1/r))))/np.pi)\n",
    "\n",
    "# The probability that the stick crosses the line\n",
    "n = 100000\n",
    "\n",
    "theta = np.random.uniform(-np.pi/2, np.pi/2, n)\n",
    "u = np.random.uniform(0, 1, n)\n",
    "z = np.greater(r*np.cos(theta)+u, 1)\n",
    "print(\"Simulated probability\", np.sum(z)/n)"
   ]
  }
 ],
 "metadata": {
  "kernelspec": {
   "display_name": "Python 3",
   "language": "python",
   "name": "python3"
  },
  "language_info": {
   "codemirror_mode": {
    "name": "ipython",
    "version": 3.0
   },
   "file_extension": ".py",
   "mimetype": "text/x-python",
   "name": "python",
   "nbconvert_exporter": "python",
   "pygments_lexer": "ipython3",
   "version": "3.5.2"
  }
 },
 "nbformat": 4,
 "nbformat_minor": 0
}