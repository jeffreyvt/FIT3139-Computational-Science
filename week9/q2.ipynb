{
 "cells": [
  {
   "cell_type": "markdown",
   "metadata": {},
   "source": [
    "# Question 2\n",
    "Author: JiaHui (Jeffrey) Lu\n",
    "\n",
    "ID: 25944800\n"
   ]
  },
  {
   "cell_type": "code",
   "execution_count": 117,
   "metadata": {
    "collapsed": true
   },
   "outputs": [],
   "source": [
    "import numpy as np\n"
   ]
  },
  {
   "cell_type": "code",
   "execution_count": 63,
   "metadata": {
    "collapsed": true
   },
   "outputs": [],
   "source": [
    "# load substitution matrix file\n",
    "file = open('Supporting Material for Prac 9-20170918/submat', 'r')\n",
    "file_data = file.readlines()\n",
    "\n",
    "# load the file data into an array\n",
    "for i in range(len(file_data)):\n",
    "    tmp = file_data[i].replace('\\n', '')[2:].split(' ')\n",
    "    file_data[i] = []\n",
    "    for item in tmp:\n",
    "        if item != \"\":\n",
    "            file_data[i].append(item)\n",
    "\n",
    "# convert the substitution matrix into a dictionary\n",
    "submat = {char: {chara:0 for chara in file_data[0]} for char in file_data[0]}\n",
    "values = file_data[1:][::]\n",
    "keys = file_data[0]\n",
    "for i in range(len(values)):\n",
    "    for j in range(len(values)):\n",
    "        submat[keys[i]][keys[j]] = int(values[i][j])"
   ]
  },
  {
   "cell_type": "code",
   "execution_count": 78,
   "metadata": {
    "collapsed": true
   },
   "outputs": [],
   "source": [
    "# edit distance calculator via dynamic programming\n",
    "# {0: 'left', 1: 'up', 2: 'vertical'}\n",
    "def distance(s1, s2, submat, g=-1):\n",
    "    s1_L = len(s1)\n",
    "    s2_L = len(s2)\n",
    "    table = np.array([[-1 for _ in range(s1_L+1)] for _ in range(s2_L+1)])\n",
    "    backtrack = np.array([[-1 for _ in range(s1_L+1)] for _ in range(s2_L+1)])\n",
    "    for i in range(s1_L+1):\n",
    "        table[0][i] = i*g\n",
    "        backtrack[0][i] = 0\n",
    "    for j in range(s2_L+1):\n",
    "        table[j][0] = j*g\n",
    "        backtrack[j][0] = 1\n",
    "    # print(table)\n",
    "#     print(backtrack)\n",
    "    # compute edit distance\n",
    "    for i in range(1, s2_L+1):\n",
    "        for j in range(1, s1_L+1):\n",
    "#             print(s1[j-1], s2[i-1],submat[s1[j-1]][s2[i-1]])\n",
    "            left = table[i][j-1]+g\n",
    "            up = table[i-1][j]+g\n",
    "            vertical = table[i-1][j-1]+submat[s1[j-1]][s2[i-1]]\n",
    "            selection = [left, up, vertical]\n",
    "            max_val = max(selection)\n",
    "            table[i][j] = max(selection)\n",
    "            backtrack[i][j] = selection.index(max_val)\n",
    "    return table, table[s2_L][s1_L], backtrack\n"
   ]
  },
  {
   "cell_type": "code",
   "execution_count": 115,
   "metadata": {
    "collapsed": true
   },
   "outputs": [],
   "source": [
    "table, dist, backtrack = distance('ASQGIVEICS', 'AECTSGGWISTHRI', submat)"
   ]
  },
  {
   "cell_type": "code",
   "execution_count": 107,
   "metadata": {
    "collapsed": true
   },
   "outputs": [],
   "source": [
    "def optimal_alignment(backtrack, s1, s2):\n",
    "    opt_s1 = ''\n",
    "    opt_s2 = ''\n",
    "    rows = len(s1)\n",
    "    cols = len(s2)\n",
    "    i = cols\n",
    "    j = rows\n",
    "    while i >= 1 and j >= 1:\n",
    "        if backtrack[i][j] == 2:\n",
    "            opt_s2 += s2[i-1]\n",
    "            opt_s1 += s1[j-1]\n",
    "            i -= 1\n",
    "            j -= 1\n",
    "        elif backtrack[i][j] == 1:\n",
    "            opt_s1 += '_'\n",
    "            opt_s2 += s2[i-1]\n",
    "            i -= 1\n",
    "        elif backtrack[i][j] == 0:\n",
    "            opt_s2 += '_'\n",
    "            opt_s1 += s1[j-1]\n",
    "            j -= 1\n",
    "    print(opt_s1[::-1])\n",
    "    print(opt_s2[::-1])\n",
    "        "
   ]
  },
  {
   "cell_type": "code",
   "execution_count": 109,
   "metadata": {},
   "outputs": [
    {
     "name": "stdout",
     "output_type": "stream",
     "text": [
      "The optimal alignment is:\n",
      "A___SQG__I_VE_ICS\n",
      "AECTS_GGWISTHRI__\n"
     ]
    }
   ],
   "source": [
    "print('The optimal alignment is:')\n",
    "optimal_alignment(backtrack,'ASQGIVEICS', 'AECTSGGWISTHRI')"
   ]
  },
  {
   "cell_type": "code",
   "execution_count": 110,
   "metadata": {},
   "outputs": [
    {
     "data": {
      "text/plain": [
       "12"
      ]
     },
     "execution_count": 110,
     "metadata": {},
     "output_type": "execute_result"
    }
   ],
   "source": [
    "dist"
   ]
  },
  {
   "cell_type": "code",
   "execution_count": 111,
   "metadata": {
    "collapsed": true
   },
   "outputs": [],
   "source": [
    "sequences = []\n",
    "for i in range(1,8):\n",
    "    sequences.append(open('Supporting Material for Prac 9-20170918/seq'+str(i)).readlines()[0].replace('\\n',\"\"))\n"
   ]
  },
  {
   "cell_type": "code",
   "execution_count": 112,
   "metadata": {},
   "outputs": [
    {
     "data": {
      "text/plain": [
       "64"
      ]
     },
     "execution_count": 112,
     "metadata": {},
     "output_type": "execute_result"
    }
   ],
   "source": [
    "table, dist, backtrack = distance(sequences[0], sequences[1], submat)\n",
    "dist"
   ]
  },
  {
   "cell_type": "code",
   "execution_count": 113,
   "metadata": {},
   "outputs": [
    {
     "name": "stdout",
     "output_type": "stream",
     "text": [
      "TK__WYR_VETSTKKV_YYYNRCTKE_SRWE_MP\n",
      "VEPPWQRAIST_TNRLPYYIDH_SAEHTQWDH_P\n"
     ]
    }
   ],
   "source": [
    "optimal_alignment(backtrack,sequences[0], sequences[1])"
   ]
  },
  {
   "cell_type": "code",
   "execution_count": 116,
   "metadata": {},
   "outputs": [
    {
     "data": {
      "text/plain": [
       "array([[  0,  -1,  -2,  -3,  -4,  -5,  -6,  -7,  -8,  -9, -10],\n",
       "       [ -1,   4,   3,   2,   1,   0,  -1,  -2,  -3,  -4,  -5],\n",
       "       [ -2,   3,   4,   5,   4,   3,   2,   4,   3,   2,   1],\n",
       "       [ -3,   2,   3,   4,   3,   3,   2,   3,   3,  12,  11],\n",
       "       [ -4,   1,   3,   3,   2,   2,   3,   2,   2,  11,  13],\n",
       "       [ -5,   0,   5,   4,   3,   2,   2,   3,   2,  10,  15],\n",
       "       [ -6,  -1,   4,   3,  10,   9,   8,   7,   6,   9,  14],\n",
       "       [ -7,  -2,   3,   2,   9,   8,   7,   6,   5,   8,  13],\n",
       "       [ -8,  -3,   2,   1,   8,   7,   6,   5,   4,   7,  12],\n",
       "       [ -9,  -4,   1,   0,   7,  12,  11,  10,   9,   8,  11],\n",
       "       [-10,  -5,   0,   1,   6,  11,  10,  11,  10,   9,  12],\n",
       "       [-11,  -6,  -1,   0,   5,  10,  11,  10,  10,   9,  11],\n",
       "       [-12,  -7,  -2,  -1,   4,   9,  10,  11,  10,   9,  10],\n",
       "       [-13,  -8,  -3,  -1,   3,   8,   9,  10,   9,   8,   9],\n",
       "       [-14,  -9,  -4,  -2,   2,   7,  11,  10,  14,  13,  12]])"
      ]
     },
     "execution_count": 116,
     "metadata": {},
     "output_type": "execute_result"
    }
   ],
   "source": [
    "table"
   ]
  },
  {
   "cell_type": "code",
   "execution_count": 118,
   "metadata": {},
   "outputs": [
    {
     "data": {
      "text/plain": [
       "array([[1, 0, 0, 0, 0, 0, 0, 0, 0, 0, 0],\n",
       "       [1, 2, 0, 0, 0, 0, 0, 0, 0, 0, 0],\n",
       "       [1, 1, 2, 2, 0, 0, 0, 2, 0, 0, 0],\n",
       "       [1, 1, 1, 1, 0, 2, 0, 1, 2, 2, 0],\n",
       "       [1, 1, 2, 1, 0, 1, 2, 0, 1, 1, 2],\n",
       "       [1, 1, 2, 0, 0, 0, 1, 2, 0, 1, 2],\n",
       "       [1, 1, 1, 0, 2, 0, 0, 0, 0, 1, 1],\n",
       "       [1, 1, 1, 0, 1, 0, 0, 0, 0, 1, 1],\n",
       "       [1, 1, 1, 0, 1, 0, 0, 0, 0, 1, 1],\n",
       "       [1, 1, 1, 0, 1, 2, 0, 0, 0, 0, 1],\n",
       "       [1, 1, 1, 2, 1, 1, 0, 2, 0, 0, 2],\n",
       "       [1, 1, 1, 1, 1, 1, 2, 0, 2, 0, 1],\n",
       "       [1, 1, 1, 1, 1, 1, 1, 2, 0, 0, 1],\n",
       "       [1, 1, 1, 2, 1, 1, 1, 1, 0, 0, 1],\n",
       "       [1, 1, 1, 1, 1, 1, 2, 0, 2, 0, 0]])"
      ]
     },
     "execution_count": 118,
     "metadata": {},
     "output_type": "execute_result"
    }
   ],
   "source": [
    "backtrack"
   ]
  },
  {
   "cell_type": "code",
   "execution_count": null,
   "metadata": {
    "collapsed": true
   },
   "outputs": [],
   "source": []
  }
 ],
 "metadata": {
  "kernelspec": {
   "display_name": "Python 3",
   "language": "python",
   "name": "python3"
  },
  "language_info": {
   "codemirror_mode": {
    "name": "ipython",
    "version": 3
   },
   "file_extension": ".py",
   "mimetype": "text/x-python",
   "name": "python",
   "nbconvert_exporter": "python",
   "pygments_lexer": "ipython3",
   "version": "3.5.2"
  }
 },
 "nbformat": 4,
 "nbformat_minor": 2
}
