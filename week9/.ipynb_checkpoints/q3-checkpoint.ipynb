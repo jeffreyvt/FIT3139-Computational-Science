{
 "cells": [
  {
   "cell_type": "markdown",
   "metadata": {},
   "source": [
    "# Question 3\n",
    "Author: JiaHui (Jeffrey) Lu\n",
    "\n",
    "ID: 25944800"
   ]
  },
  {
   "cell_type": "code",
   "execution_count": 1,
   "metadata": {
    "collapsed": true
   },
   "outputs": [],
   "source": [
    "import numpy as np\n"
   ]
  },
  {
   "cell_type": "code",
   "execution_count": 2,
   "metadata": {
    "collapsed": true
   },
   "outputs": [],
   "source": [
    "# load substitution matrix file\n",
    "file = open('Supporting Material for Prac 9-20170918/submat', 'r')\n",
    "file_data = file.readlines()\n",
    "\n",
    "# load the file data into an array\n",
    "for i in range(len(file_data)):\n",
    "    tmp = file_data[i].replace('\\n', '')[2:].split(' ')\n",
    "    file_data[i] = []\n",
    "    for item in tmp:\n",
    "        if item != \"\":\n",
    "            file_data[i].append(item)\n",
    "\n",
    "# convert the substitution matrix into a dictionary\n",
    "submat = {char: {chara:0 for chara in file_data[0]} for char in file_data[0]}\n",
    "values = file_data[1:][::]\n",
    "keys = file_data[0]\n",
    "for i in range(len(values)):\n",
    "    for j in range(len(values)):\n",
    "        submat[keys[i]][keys[j]] = int(values[i][j])"
   ]
  },
  {
   "cell_type": "code",
   "execution_count": 205,
   "metadata": {
    "collapsed": true
   },
   "outputs": [],
   "source": [
    "# edit distance calculator via dynamic programming\n",
    "# {0: 'left', 1: 'up', 2: 'vertical'}\n",
    "def distance(s1, s2, submat, g=-10, ge=-10):\n",
    "    s1_L = len(s1)\n",
    "    s2_L = len(s2)\n",
    "    table = np.array([[-1 for _ in range(s1_L+1)] for _ in range(s2_L+1)])\n",
    "    backtrack = np.array([[-1 for _ in range(s1_L+1)] for _ in range(s2_L+1)])\n",
    "    table[0][0] = 0\n",
    "    backtrack[0][0]=1\n",
    "    for i in range(1,s1_L+1):\n",
    "        table[0][i] = g+ge*np.log(i)\n",
    "        backtrack[0][i] = 0\n",
    "    for j in range(1,s2_L+1):\n",
    "        table[j][0] = g+ge*np.log(j)\n",
    "        backtrack[j][0] = 1\n",
    "    # print(table)\n",
    "#     print(backtrack)\n",
    "    # compute edit distance\n",
    "    for i in range(1, s2_L+1):\n",
    "        for j in range(1, s1_L+1):\n",
    "#             print(s1[j-1], s2[i-1],submat[s1[j-1]][s2[i-1]])\n",
    "            if j > 1:\n",
    "#                 tmp = max(table[i,:j-1])\n",
    "# #                 print(table[i,:j-1])\n",
    "# #                 print(np.where(table[i,:j-1]==tmp)[0])\n",
    "#                 left = tmp+g+ge*np.log(int(np.where(table[i,:j-1]==tmp)[0][0])+1)\n",
    "                tmp1 = backtrack[i,:j-1]\n",
    "                count = 0\n",
    "                for k in range(len(tmp1)-1, -1, -1):\n",
    "                    if tmp1[k] == 0:\n",
    "                        count += 1\n",
    "                    else:\n",
    "                        break\n",
    "                left = table[i][j-1-count] + g + ge*np.log(count+1)\n",
    "            else:\n",
    "                left = table[i][j-1] + g + ge*np.log(1)\n",
    "            if i > 1:\n",
    "#                 tmp = max(table[:i-1,j])\n",
    "#                 print(table[:i-1,j])\n",
    "#                 up = tmp+g+ge*np.log(int(np.where(table[:i-1,j]==tmp)[0][0])+1)\n",
    "                tmp1 = backtrack[:i-1, j]\n",
    "                count = 0\n",
    "                for k in range(len(tmp1)-1, -1, -1):\n",
    "                    if tmp1[k] == 1:\n",
    "                        count += 1\n",
    "                    else:\n",
    "                        break\n",
    "                up = table[i-1-count][j] + g + ge*np.log(count+1)\n",
    "            else:\n",
    "                up = table[i-1][j] + g + ge*np.log(1)\n",
    "            vertical = table[i-1][j-1]+submat[s1[j-1]][s2[i-1]]\n",
    "            selection = [left, up, vertical]\n",
    "            max_val = max(selection)\n",
    "            table[i][j] = max(selection)\n",
    "            backtrack[i][j] = selection.index(max_val)\n",
    "    return table, table[s2_L][s1_L], backtrack\n"
   ]
  },
  {
   "cell_type": "code",
   "execution_count": 228,
   "metadata": {
    "collapsed": true
   },
   "outputs": [],
   "source": [
    "def optimal_alignment(backtrack, s1, s2):\n",
    "    opt_s1 = ''\n",
    "    opt_s2 = ''\n",
    "    rows = len(s1)\n",
    "    cols = len(s2)\n",
    "    i = cols\n",
    "    j = rows\n",
    "    while True:\n",
    "        if i <= 0 and j <= 0:\n",
    "            break\n",
    "#         print(i,j)\n",
    "        if backtrack[i][j] == 2:\n",
    "            opt_s2 += s2[i-1]\n",
    "            opt_s1 += s1[j-1]\n",
    "            i -= 1\n",
    "            j -= 1\n",
    "        elif backtrack[i][j] == 1:\n",
    "            opt_s1 += '_'\n",
    "            opt_s2 += s2[i-1]\n",
    "            i -= 1\n",
    "        elif backtrack[i][j] == 0:\n",
    "            opt_s2 += '_'\n",
    "            opt_s1 += s1[j-1]\n",
    "            j -= 1\n",
    "        \n",
    "    print(opt_s1[::-1])\n",
    "    print(opt_s2[::-1])\n",
    "        "
   ]
  },
  {
   "cell_type": "code",
   "execution_count": 246,
   "metadata": {
    "collapsed": true
   },
   "outputs": [],
   "source": [
    "#load all the sequences\n",
    "sequences = []\n",
    "for i in range(1,8):\n",
    "    sequences.append(open('Supporting Material for Prac 9-20170918/seq'+str(i)).readlines()[0].replace('\\n',\"\"))\n"
   ]
  },
  {
   "cell_type": "code",
   "execution_count": 247,
   "metadata": {},
   "outputs": [
    {
     "name": "stdout",
     "output_type": "stream",
     "text": [
      "The optimal alignment is:\n",
      "MALLWGLLALILSCLSSLCSAQFSPVSTMEPLDLQLMDGQAQQKLPPLSLLKLDNQEPGGQIAPKKAPEDCKLSPTPEQTRRLARAMMTFTTDLFSLVAQSSTRPNLILSPLSVALALSHLALGAQNQTLQRLKEVLHADSGPCLPHLLSRLCQDLGPGAFRLAARMYLQKGFPIKEDFLEQSEQLFGAKPMSLTGMKGEDLANINRWVKEATEGKIEDFLSDLPDDTVLLLLNAIHFQGFWRSKFDPNLTQRGAFHLDEQFTVPVDMMQALTYPLHWFLLEQPEIQVAHFPFKNNMSFVVLMPTRFEWNASQVLANLTWDILHQPSLSERPTKVQLPKLHLKYQLDLVATLSQLGLQELFQAPDLRGISDERLVVSSVQHQSALE_LSEAGVQAAAATSTAMSRMSLSSFIVNRPFLFFILEDSTSLPLFVGSVRNPNPGAQPERKEQQDSPDGKDSFQDHKGLPRGDKPFDPDLKLGPPSEEDYAQPSSPK\n",
      "_______________________________________________________________________________________________________________________________________________________________________________________________________________________________________________________________________________________________________________________________________________________VHLTPEEKSAVTALWGKVNVDEVGGEALGRLLVVYPWTQRFFESFGDLSTPDAVMGNPKVKAHGKKVLGAFSDGLAH_LDNLKGTFATLSELHCDKLHVDPENFRLLGNVL_VCVLAHHFG_KEFTPPVQAAYQKVVAGVAN_ALAHKYH\n"
     ]
    }
   ],
   "source": [
    "table, dist, backtrack = distance(sequences[4], sequences[6], submat,g=-10, ge=-100)\n",
    "print('The optimal alignment is:')\n",
    "optimal_alignment(backtrack, sequences[4], sequences[6])"
   ]
  },
  {
   "cell_type": "code",
   "execution_count": 254,
   "metadata": {},
   "outputs": [
    {
     "name": "stdout",
     "output_type": "stream",
     "text": [
      "The optimal alignment is:\n",
      "__MALLWGLLALI_LSCLSSLCSAQFSPVSTMEPLDLQLMDGQAQQKLPPLSLLKLDNQEPGGQIAPKKAPEDCKLSPTPEQT_RRLARAMMTFTTDLFSLVAQSSTRPNLILSPLSVALALSHLALGAQNQTLQRLKEVLH________ADSGPCLPHLLSRLCQDLGPGAFRLAARMYLQKGFPIKEDFLEQSEQLFGAKPMSLT_GMKGEDLANINRWVKEATEGKIEDFLSDLPDDTVLLLLNAIHFQGFWRSKFDPNLTQRGAFHLDEQFTVPVDMMQALTYPLHWFLLEQPEIQVAHFPFKNNMSFVVLMPTRFEWNASQVLANLTWDILHQPSLSE_RPT_KVQLPKLHLKYQLDLVATLSQLGLQELFQ_APDLRGISDER_LVVSSVQHQSALELSEAGVQAAAATSTAMSRMSLSSFI_VNRPFLFFILEDSTSLPLFVGSVRNPNPGAQPERKEQQDSPDGKDSFQDHKGLPRGDKPFDPDLKLGPPSEEDYAQPSSPK\n",
      "MPSSVSWGILLLAGLCCLVPVSLAEDPQGDAAQKTDTSHHD_____________________________________QDHPTFNKITPNLAEFAFSLYRQLAHQSNSTNIFFSPVSIATAFAMLSLGTKADTHDEILEGLNFNLTEIPEAQIHEGFQELLRTLNQPDSQLQLTTGNGLFLSEGLKLVDKFLEDVKKLYHSEAFTVNFGDTEEAKKQINDYVEKGTQGKIVDLVKELDRDTVFALVNYIFFKGKWERPFEVKDTEEEDFHVDQVTTVKVPMMKRLGM_FNIQHCKKLSSWVLLMKYLGNATAIFFLPD__EGKLQHLENELTHDIITKFLENEDRRSASLHLPKLSITGTYDLKSVLGQLGITKVFSNGADLSGVTEEAPLKLSKAVHKAVLTIDEKGTEAAGAMFLEAIPMSIPPEVKFNKPFVFLMIEQNTKSPLFMGKVVNPT____________________________________________________QK\n"
     ]
    }
   ],
   "source": [
    "table, dist, backtrack = distance(sequences[4], sequences[3], submat,g=-10, ge=-1)\n",
    "print('The optimal alignment is:')\n",
    "optimal_alignment(backtrack, sequences[4], sequences[3])"
   ]
  },
  {
   "cell_type": "markdown",
   "metadata": {},
   "source": [
    "## analysis\n",
    "By increasing `g_0`, the new gap penalty gets huge, hence the edit is less likely to appear as broken individual small gaps. Matching character becomes less important than keeping the gap long.\n",
    "\n",
    "By increasing `g_e`, the new gap penalty will be less significant, hence the edit is more likely to be smaller pieces, to reward matching characters. Hence, the algorithm will optimise for matching sequences with relatively larger gaps."
   ]
  },
  {
   "cell_type": "code",
   "execution_count": null,
   "metadata": {
    "collapsed": true
   },
   "outputs": [],
   "source": []
  }
 ],
 "metadata": {
  "kernelspec": {
   "display_name": "Python 3",
   "language": "python",
   "name": "python3"
  },
  "language_info": {
   "codemirror_mode": {
    "name": "ipython",
    "version": 3
   },
   "file_extension": ".py",
   "mimetype": "text/x-python",
   "name": "python",
   "nbconvert_exporter": "python",
   "pygments_lexer": "ipython3",
   "version": "3.5.2"
  }
 },
 "nbformat": 4,
 "nbformat_minor": 2
}
