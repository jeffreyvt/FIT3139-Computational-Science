{
 "cells": [
  {
   "cell_type": "code",
   "execution_count": 1,
   "metadata": {
    "collapsed": true
   },
   "outputs": [],
   "source": [
    "\"\"\"\n",
    "Author: JiaHui (Jeffrey) Lu \n",
    "Student ID: 25944800\n",
    "\"\"\"\n",
    "import numpy as np\n",
    "import matplotlib.pyplot as plt\n",
    "# used to export text file\n",
    "import pandas as pd"
   ]
  },
  {
   "cell_type": "code",
   "execution_count": 2,
   "metadata": {},
   "outputs": [],
   "source": [
    "def parse_coordinates(file_name):\n",
    "    file = open(file_name).readlines()\n",
    "    coord = []\n",
    "    for item in file:\n",
    "        if item[13:15] == \"CA\":\n",
    "            coord.append([float(item[31:39]), float(item[39:47]), float(item[47:55])])\n",
    "    return coord"
   ]
  },
  {
   "cell_type": "code",
   "execution_count": 3,
   "metadata": {},
   "outputs": [],
   "source": [
    "A = np.array(parse_coordinates(\"assignment1/A.pdb\"))\n",
    "B = np.array(parse_coordinates(\"assignment1/B.pdb\"))"
   ]
  },
  {
   "cell_type": "code",
   "execution_count": 4,
   "metadata": {},
   "outputs": [],
   "source": [
    "def RMSD(U, V):\n",
    "    U_centoid = np.sum(U, axis=0) / len(U)\n",
    "    V_centoid = np.sum(V, axis=0) / len(V)\n",
    "    U_prime = U - U_centoid\n",
    "    V_prime = V - V_centoid\n",
    "    minus = V_prime - U_prime\n",
    "    plus = V_prime + U_prime\n",
    "    xm = minus[:, [0]]\n",
    "    ym = minus[:, [1]]\n",
    "    zm = minus[:, [2]]\n",
    "    xp = plus[:, [0]]\n",
    "    yp = plus[:, [1]]\n",
    "    zp = plus[:, [2]]\n",
    "    I = np.zeros((4, 4))\n",
    "    \n",
    "\n",
    "    I[0, 0] = np.sum(xm * xm + ym * ym + zm * zm)\n",
    "    I[1, 1] = np.sum(xm * xm + yp * yp + zp * zp)\n",
    "    I[2, 2] = np.sum(xp * xp + ym * ym + zp * zp)\n",
    "    I[3, 3] = np.sum(xp * xp + yp * yp + zm * zm)\n",
    "\n",
    "    I[0, 1] = I[1, 0] = np.sum(yp * zm - ym * zp)\n",
    "    I[0, 2] = I[2, 0] = np.sum(xm * zp - xp * zm)\n",
    "    I[0, 3] = I[3, 0] = np.sum(xp * ym - xm * yp)\n",
    "    I[1, 2] = I[2, 1] = np.sum(xm * ym - xp * yp)\n",
    "    I[1, 3] = I[3, 1] = np.sum(xm * zm - xp * zp)\n",
    "    I[2, 3] = I[3, 2] = np.sum(ym * zm - yp * zp)\n",
    "    w, _ = np.linalg.eig(I)\n",
    "    return np.sqrt(np.min(w)/len(U))"
   ]
  },
  {
   "cell_type": "code",
   "execution_count": 5,
   "metadata": {},
   "outputs": [],
   "source": [
    "def find_well_superposable(A, B, k=9):\n",
    "    count = 0\n",
    "    return_array = []\n",
    "    for i in range(len(A) - k + 1):\n",
    "        for j in range(len(B) - k + 1):\n",
    "            val = RMSD(A[i: i+k], B[j:j+k])\n",
    "            if val < 1.5:\n",
    "                count += 1\n",
    "                return_array.append([i+1, j+1, val])\n",
    "    return count, return_array"
   ]
  },
  {
   "cell_type": "code",
   "execution_count": 6,
   "metadata": {
    "collapsed": false
   },
   "outputs": [
    {
     "name": "stdout",
     "output_type": "stream",
     "text": [
      "the total number of well superposable pairs is: 5219\n"
     ]
    }
   ],
   "source": [
    "count, pairs = find_well_superposable(A, B)\n",
    "print(\"the total number of well superposable pairs is:\", count)"
   ]
  },
  {
   "cell_type": "code",
   "execution_count": 7,
   "metadata": {
    "collapsed": false
   },
   "outputs": [
    {
     "data": {
      "text/html": [
       "<div>\n",
       "<table border=\"1\" class=\"dataframe\">\n",
       "  <thead>\n",
       "    <tr style=\"text-align: right;\">\n",
       "      <th></th>\n",
       "      <th>i</th>\n",
       "      <th>j</th>\n",
       "      <th>rmsd</th>\n",
       "    </tr>\n",
       "  </thead>\n",
       "  <tbody>\n",
       "    <tr>\n",
       "      <th>0</th>\n",
       "      <td>1</td>\n",
       "      <td>2</td>\n",
       "      <td>0.528108</td>\n",
       "    </tr>\n",
       "    <tr>\n",
       "      <th>1</th>\n",
       "      <td>1</td>\n",
       "      <td>55</td>\n",
       "      <td>1.369507</td>\n",
       "    </tr>\n",
       "    <tr>\n",
       "      <th>2</th>\n",
       "      <td>1</td>\n",
       "      <td>97</td>\n",
       "      <td>1.042116</td>\n",
       "    </tr>\n",
       "    <tr>\n",
       "      <th>3</th>\n",
       "      <td>1</td>\n",
       "      <td>121</td>\n",
       "      <td>0.635251</td>\n",
       "    </tr>\n",
       "    <tr>\n",
       "      <th>4</th>\n",
       "      <td>2</td>\n",
       "      <td>3</td>\n",
       "      <td>0.402735</td>\n",
       "    </tr>\n",
       "    <tr>\n",
       "      <th>5</th>\n",
       "      <td>2</td>\n",
       "      <td>19</td>\n",
       "      <td>1.462421</td>\n",
       "    </tr>\n",
       "    <tr>\n",
       "      <th>6</th>\n",
       "      <td>2</td>\n",
       "      <td>49</td>\n",
       "      <td>0.637293</td>\n",
       "    </tr>\n",
       "    <tr>\n",
       "      <th>7</th>\n",
       "      <td>2</td>\n",
       "      <td>56</td>\n",
       "      <td>1.049276</td>\n",
       "    </tr>\n",
       "    <tr>\n",
       "      <th>8</th>\n",
       "      <td>2</td>\n",
       "      <td>98</td>\n",
       "      <td>0.916854</td>\n",
       "    </tr>\n",
       "    <tr>\n",
       "      <th>9</th>\n",
       "      <td>2</td>\n",
       "      <td>122</td>\n",
       "      <td>0.306730</td>\n",
       "    </tr>\n",
       "  </tbody>\n",
       "</table>\n",
       "</div>"
      ],
      "text/plain": [
       "<div>\n",
       "<table border=\"1\" class=\"dataframe\">\n",
       "  <thead>\n",
       "    <tr style=\"text-align: right;\">\n",
       "      <th></th>\n",
       "      <th>i</th>\n",
       "      <th>j</th>\n",
       "      <th>rmsd</th>\n",
       "    </tr>\n",
       "  </thead>\n",
       "  <tbody>\n",
       "    <tr>\n",
       "      <th>0</th>\n",
       "      <td>1</td>\n",
       "      <td>2</td>\n",
       "      <td>0.528108</td>\n",
       "    </tr>\n",
       "    <tr>\n",
       "      <th>1</th>\n",
       "      <td>1</td>\n",
       "      <td>55</td>\n",
       "      <td>1.369507</td>\n",
       "    </tr>\n",
       "    <tr>\n",
       "      <th>2</th>\n",
       "      <td>1</td>\n",
       "      <td>97</td>\n",
       "      <td>1.042116</td>\n",
       "    </tr>\n",
       "    <tr>\n",
       "      <th>3</th>\n",
       "      <td>1</td>\n",
       "      <td>121</td>\n",
       "      <td>0.635251</td>\n",
       "    </tr>\n",
       "    <tr>\n",
       "      <th>4</th>\n",
       "      <td>2</td>\n",
       "      <td>3</td>\n",
       "      <td>0.402735</td>\n",
       "    </tr>\n",
       "    <tr>\n",
       "      <th>5</th>\n",
       "      <td>2</td>\n",
       "      <td>19</td>\n",
       "      <td>1.462421</td>\n",
       "    </tr>\n",
       "    <tr>\n",
       "      <th>6</th>\n",
       "      <td>2</td>\n",
       "      <td>49</td>\n",
       "      <td>0.637293</td>\n",
       "    </tr>\n",
       "    <tr>\n",
       "      <th>7</th>\n",
       "      <td>2</td>\n",
       "      <td>56</td>\n",
       "      <td>1.049276</td>\n",
       "    </tr>\n",
       "    <tr>\n",
       "      <th>8</th>\n",
       "      <td>2</td>\n",
       "      <td>98</td>\n",
       "      <td>0.916854</td>\n",
       "    </tr>\n",
       "    <tr>\n",
       "      <th>9</th>\n",
       "      <td>2</td>\n",
       "      <td>122</td>\n",
       "      <td>0.306730</td>\n",
       "    </tr>\n",
       "  </tbody>\n",
       "</table>\n",
       "</div>"
      ]
     },
     "execution_count": 7,
     "metadata": {},
     "output_type": "execute_result"
    }
   ],
   "source": [
    "df = pd.DataFrame(pairs, columns=[\"i\", \"j\", \"rmsd\"])\n",
    "df.head(10)"
   ]
  },
  {
   "cell_type": "code",
   "execution_count": 8,
   "metadata": {},
   "outputs": [],
   "source": [
    "# Add the total number of pairs to the start of the file\n",
    "\n",
    "with open(\"assignment1/output.txt\", \"w\") as f:\n",
    "    f.write(\"The total number of well-superposable fragment pairs: \"+str(count)+\"\\n\\n\")\n",
    "\n",
    "# Write the data frame to an output file\n",
    "df.to_csv(\"assignment1/output.txt\", index=None, sep=' ', float_format='%.3f', mode=\"a\")"
   ]
  },
  {
   "cell_type": "code",
   "execution_count": null,
   "metadata": {},
   "outputs": [],
   "source": [
    ""
   ]
  }
 ],
 "metadata": {
  "kernelspec": {
   "display_name": "Python 2",
   "language": "python",
   "name": "python2"
  },
  "language_info": {
   "codemirror_mode": {
    "name": "ipython",
    "version": 2.0
   },
   "file_extension": ".py",
   "mimetype": "text/x-python",
   "name": "python",
   "nbconvert_exporter": "python",
   "pygments_lexer": "ipython2",
   "version": "2.7.6"
  }
 },
 "nbformat": 4,
 "nbformat_minor": 0
}