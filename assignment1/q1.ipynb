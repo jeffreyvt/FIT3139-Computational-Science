{
 "cells": [
  {
   "cell_type": "code",
   "execution_count": 1,
   "metadata": {
    "collapsed": true
   },
   "outputs": [],
   "source": [
    "\"\"\"\n",
    "Author: JiaHui (Jeffrey) Lu\n",
    "ID: 25944800\n",
    "\"\"\"\n",
    "import numpy as np\n",
    "import matplotlib.pyplot as plt"
   ]
  },
  {
   "cell_type": "code",
   "execution_count": 23,
   "metadata": {},
   "outputs": [
    {
     "data": {
      "image/png": "[encoded data removed]",
      "text/plain": [
       "<matplotlib.figure.Figure at 0x1084815c0>"
      ]
     },
     "metadata": {},
     "output_type": "display_data"
    }
   ],
   "source": [
    "def my_log1p(x):\n",
    "    n = 2\n",
    "    ans = x\n",
    "    while True:\n",
    "        delta = (((-1)**(n+1))*(x**n))/n\n",
    "        ans += delta\n",
    "        if n >= 1000000 or abs(delta) < 0.000001:\n",
    "            break\n",
    "        n += 1\n",
    "        # print(delta)\n",
    "    actual = np.log1p(x)\n",
    "    error = abs((ans - actual)/actual)\n",
    "    return ans, n, error\n",
    "\n",
    "test_val = [2.220446049250313e-50, 2.220446049250313e-16, 0.0000001, 0.000001, 0.00001, 0.0001, 0.001, 0.01, 0.1, 0.2, 0.3, 0.4, 0.5, 0.6, 0.7, 0.8, 0.9, 1]\n",
    "result_errors = []\n",
    "for test_item in test_val:\n",
    "    _, __, result_error = my_log1p(test_item)\n",
    "    result_errors.append(result_error)\n",
    "plt.plot(test_val, result_errors)\n",
    "plt.show()"
   ]
  },
  {
   "cell_type": "code",
   "execution_count": 22,
   "metadata": {},
   "outputs": [
    {
     "data": {
      "text/plain": [
       "(0.6931466805602525, 1000000, 7.2134707719108213e-07)"
      ]
     },
     "execution_count": 22,
     "metadata": {},
     "output_type": "execute_result"
    }
   ],
   "source": [
    "\"\"\"\n",
    "Looks like the script is only good for x between 0 and 1\n",
    "\n",
    "\"\"\"\n",
    "my_log1p(1)"
   ]
  },
  {
   "cell_type": "code",
   "execution_count": null,
   "metadata": {},
   "outputs": [],
   "source": [
    ""
   ]
  }
 ],
 "metadata": {
  "kernelspec": {
   "display_name": "Python 2",
   "language": "python",
   "name": "python2"
  },
  "language_info": {
   "codemirror_mode": {
    "name": "ipython",
    "version": 2.0
   },
   "file_extension": ".py",
   "mimetype": "text/x-python",
   "name": "python",
   "nbconvert_exporter": "python",
   "pygments_lexer": "ipython2",
   "version": "2.7.6"
  }
 },
 "nbformat": 4,
 "nbformat_minor": 0
}