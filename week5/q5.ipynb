{
 "cells": [
  {
   "cell_type": "code",
   "execution_count": 1,
   "metadata": {
    "collapsed": true
   },
   "outputs": [],
   "source": [
    "\"\"\"\n",
    "Author: JiaHui (Jeffrey) Lu \n",
    "Student ID: 25944800\n",
    "\"\"\"\n",
    "\n",
    "import numpy as np\n",
    "import matplotlib.pyplot as plt"
   ]
  },
  {
   "cell_type": "code",
   "execution_count": 34,
   "metadata": {},
   "outputs": [
    {
     "data": {
      "image/png": "[encoded data removed]",
      "text/plain": [
       "<matplotlib.figure.Figure at 0x108d09978>"
      ]
     },
     "metadata": {},
     "output_type": "display_data"
    }
   ],
   "source": [
    "\"\"\"\n",
    "N_k+1 equals to the amount of new host produced, hence host rate * fraction not parasitized * total previous total host\n",
    "N_k+1 = N_k * lmbda * f\n",
    "\n",
    "P_k+1 equals to the number of eggs laid on each infected host of the previous time frame\n",
    "P_k+1 = c*N_k*(1-f)\n",
    "\"\"\"\n",
    "\n",
    "k = np.arange(0, 10, 1)\n",
    "# initialize starting host and parasite\n",
    "P = [1]\n",
    "N = [100]\n",
    "gamma = 0.068\n",
    "c = 1\n",
    "lmbda = 2\n",
    "for i in range(len(k) - 1):\n",
    "    f = np.exp(-gamma * P[i])\n",
    "    N.append(lmbda * f * N[i])\n",
    "    P.append(c * N[i] * (1 - f))\n",
    "plt.plot(k, P, label=\"parasites\")\n",
    "plt.plot(k, N, label=\"hosts\")\n",
    "plt.legend(loc=\"upper right\")\n",
    "plt.show()"
   ]
  },
  {
   "cell_type": "code",
   "execution_count": 29,
   "metadata": {},
   "outputs": [
    {
     "name": "stdout",
     "output_type": "stream",
     "text": [
      "[10, 49.338300763441048, 97.786278197472313, 7.0650814463803977, 0.0069880282691644141, 1.0765327573057371e-05, 3.3160914029729957e-08, 2.0429397873739247e-10, 2.5171836078634548e-12, 6.2040424577576975e-14]\n"
     ]
    }
   ],
   "source": [
    "\"\"\"\n",
    "The parasites grows with the growth of the host at the start. However, after a while, when the parasites reaches a \n",
    "critical value, the host start to die faster than they can produce. the entire population does from the parasite.\n",
    "Consequently, most of the host dies. But as the result of all the dying hosts, the parasites ran out of hosts to \n",
    "consume, so they die as well soon after the hosts.\n",
    "\"\"\""
   ]
  },
  {
   "cell_type": "code",
   "execution_count": null,
   "metadata": {},
   "outputs": [],
   "source": [
    ""
   ]
  }
 ],
 "metadata": {
  "kernelspec": {
   "display_name": "Python 2",
   "language": "python",
   "name": "python2"
  },
  "language_info": {
   "codemirror_mode": {
    "name": "ipython",
    "version": 2.0
   },
   "file_extension": ".py",
   "mimetype": "text/x-python",
   "name": "python",
   "nbconvert_exporter": "python",
   "pygments_lexer": "ipython2",
   "version": "2.7.6"
  }
 },
 "nbformat": 4,
 "nbformat_minor": 0
}