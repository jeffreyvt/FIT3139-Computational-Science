{
 "cells": [
  {
   "cell_type": "code",
   "execution_count": 1,
   "metadata": {
    "collapsed": true
   },
   "outputs": [],
   "source": [
    "\"\"\"\n",
    "Author: JiaHui (Jeffrey) Lu \n",
    "Student ID: 25944800\n",
    "\"\"\"\n",
    "\n",
    "import numpy as np\n",
    "import matplotlib.pyplot as plt"
   ]
  },
  {
   "cell_type": "code",
   "execution_count": 19,
   "metadata": {},
   "outputs": [
    {
     "data": {
      "image/png": "[encoded data removed]",
      "text/plain": [
       "<matplotlib.figure.Figure at 0x107e6a6d8>"
      ]
     },
     "metadata": {},
     "output_type": "display_data"
    }
   ],
   "source": [
    "\"\"\"\n",
    "N_k+1 equals to the amount of new host produced, hence host rate * fraction not parasitized * total previous total host\n",
    "N_k+1 = N_k * lmbda * f\n",
    "\n",
    "P_k+1 equals to the number of eggs laid on each infected host of the previous time frame\n",
    "P_k+1 = c*N_k*(1-f)\n",
    "\"\"\"\n",
    "\n",
    "k = np.arange(0, 30, 1)\n",
    "# initialize starting host and parasite\n",
    "P = [200]\n",
    "N = [10]\n",
    "gamma = 0.068\n",
    "c = 1\n",
    "lmbda = 2\n",
    "for i in range(len(k) - 1):\n",
    "    f = np.exp(-gamma * P[i])\n",
    "    N.append(lmbda * f * N[i])\n",
    "    P.append(c * N[i] * (1 - f))\n",
    "plt.subplot(2, 1, 1)\n",
    "plt.plot(k, P)\n",
    "plt.subplot(2, 1, 2)\n",
    "plt.plot(k, N)\n",
    "plt.show()"
   ]
  },
  {
   "cell_type": "code",
   "execution_count": null,
   "metadata": {},
   "outputs": [],
   "source": [
    "\"\"\"\n",
    "It looks like at first parasites killed the hosts too quickly, this eventually resulted in not enough hosts to keep the \n",
    "parasite population going.\n",
    "Consequently the parasite dies out to 0. But the host is still constantly reproducing, which resulted in an exponential \n",
    "growth, once the parasites all died out.\n",
    "\"\"\""
   ]
  }
 ],
 "metadata": {
  "kernelspec": {
   "display_name": "Python 2",
   "language": "python",
   "name": "python2"
  },
  "language_info": {
   "codemirror_mode": {
    "name": "ipython",
    "version": 2.0
   },
   "file_extension": ".py",
   "mimetype": "text/x-python",
   "name": "python",
   "nbconvert_exporter": "python",
   "pygments_lexer": "ipython2",
   "version": "2.7.6"
  }
 },
 "nbformat": 4,
 "nbformat_minor": 0
}