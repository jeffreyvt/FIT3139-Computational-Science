{
 "cells": [
  {
   "cell_type": "code",
   "execution_count": 1,
   "metadata": {
    "collapsed": true
   },
   "outputs": [],
   "source": [
    "\"\"\"\n",
    "Author: JiaHui (Jeffrey) Lu\n",
    "Student ID: 25944800\n",
    "\"\"\"\n",
    "\n",
    "\"\"\"\n",
    "a) make right hand side of the equations equal:\n",
    "    lambda*N_k/(1+a*N_k) = N_k + R(N_k)*N_k\n",
    "    Now, solve for R(N_k).\n",
    "    we get: R(N_k) = lambda/(1+a*N_k) - 1\n",
    "    \n",
    "    The growth rate is initially positive, and the rate decreases as N_k increases\n",
    "\"\"\"\n",
    "\n",
    "import numpy as np\n",
    "import matplotlib.pyplot as plt"
   ]
  },
  {
   "cell_type": "code",
   "execution_count": 2,
   "metadata": {},
   "outputs": [
    {
     "data": {
      "image/png": "[encoded data removed]",
      "text/plain": [
       "<matplotlib.figure.Figure at 0x1059914a8>"
      ]
     },
     "metadata": {},
     "output_type": "display_data"
    }
   ],
   "source": [
    "\"\"\"\n",
    "b) See below for the general shape of the graph taking lambda = 100 and a = 0.5\n",
    "\"\"\"\n",
    "\n",
    "lmbda, a = 100, 0.5\n",
    "N_k = np.arange(-1, 50, 0.01)\n",
    "R = lmbda/(1+a*N_k) - 1\n",
    "plt.plot(N_k, R)\n",
    "plt.show()"
   ]
  },
  {
   "cell_type": "code",
   "execution_count": 15,
   "metadata": {
    "collapsed": true
   },
   "outputs": [],
   "source": [
    "\"\"\"\n",
    "Part c)\n",
    "The unrestricted growth rate occurs at R(N_k=0), which is: lambda-1\n",
    "The carrying capacity occurs when R(N_k) = 0, solve for N_k, we get: (lambda-1)/a\n",
    "\"\"\""
   ]
  },
  {
   "cell_type": "code",
   "execution_count": null,
   "metadata": {},
   "outputs": [],
   "source": [
    ""
   ]
  }
 ],
 "metadata": {
  "kernelspec": {
   "display_name": "Python 2",
   "language": "python",
   "name": "python2"
  },
  "language_info": {
   "codemirror_mode": {
    "name": "ipython",
    "version": 2.0
   },
   "file_extension": ".py",
   "mimetype": "text/x-python",
   "name": "python",
   "nbconvert_exporter": "python",
   "pygments_lexer": "ipython2",
   "version": "2.7.6"
  }
 },
 "nbformat": 4,
 "nbformat_minor": 0
}